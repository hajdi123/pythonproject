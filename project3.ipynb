{
 "cells": [
  {
   "cell_type": "code",
   "execution_count": 19,
   "metadata": {},
   "outputs": [],
   "source": [
    "import pandas as pd\n",
    "import sqlite3\n",
    "import altair as alt\n",
    "\n",
    "con = sqlite3.connect('lahmansbaseballdb.sqlite')\n",
    "\n",
    "#df = pd.read_sql_query(\"\"\"\n",
    "#SELECT * FROM fielding LIMIT 5\"\"\", con)\n"
   ]
  },
  {
   "cell_type": "code",
   "execution_count": 2,
   "metadata": {},
   "outputs": [],
   "source": [
    "#Q1\n",
    "\n",
    "q = '''\n",
    "SELECT DISTINCT cp.playerid, cp.schoolid, sal.salary, sal.yearid,sal.teamid\n",
    "FROM schools as s \n",
    "JOIN collegeplaying as cp\n",
    "ON s.schoolid = cp.schoolid\n",
    "JOIN salaries as sal\n",
    "ON cp.playerid = sal.playerid\n",
    "WHERE cp.schoolid = 'idbyuid'\n",
    "ORDER BY sal.salary DESC;\n",
    "'''"
   ]
  },
  {
   "cell_type": "code",
   "execution_count": 50,
   "metadata": {},
   "outputs": [
    {
     "name": "stdout",
     "output_type": "stream",
     "text": [
      "|    | playerID   | schoolID   |         salary |   yearID | teamID   |\n",
      "|---:|:-----------|:-----------|---------------:|---------:|:---------|\n",
      "|  0 | lindsma01  | idbyuid    |      4e+06     |     2014 | CHA      |\n",
      "|  1 | lindsma01  | idbyuid    |      3.6e+06   |     2012 | BAL      |\n",
      "|  2 | lindsma01  | idbyuid    |      2.8e+06   |     2011 | COL      |\n",
      "|  3 | lindsma01  | idbyuid    |      2.3e+06   |     2013 | CHA      |\n",
      "|  4 | lindsma01  | idbyuid    |      1.625e+06 |     2010 | HOU      |\n",
      "|  5 | stephga01  | idbyuid    |      1.025e+06 |     2001 | SLN      |\n",
      "|  6 | stephga01  | idbyuid    | 900000         |     2002 | SLN      |\n",
      "|  7 | stephga01  | idbyuid    | 800000         |     2003 | SLN      |\n",
      "|  8 | stephga01  | idbyuid    | 550000         |     2000 | SLN      |\n",
      "|  9 | lindsma01  | idbyuid    | 410000         |     2009 | FLO      |\n",
      "| 10 | lindsma01  | idbyuid    | 395000         |     2008 | FLO      |\n",
      "| 11 | lindsma01  | idbyuid    | 380000         |     2007 | FLO      |\n",
      "| 12 | stephga01  | idbyuid    | 215000         |     1999 | SLN      |\n",
      "| 13 | stephga01  | idbyuid    | 185000         |     1998 | PHI      |\n",
      "| 14 | stephga01  | idbyuid    | 150000         |     1997 | PHI      |\n"
     ]
    }
   ],
   "source": [
    "q1 = pd.read_sql_query(q,con)\n",
    "q1\n",
    "\n",
    "table1_project3 =q1.to_markdown()\n",
    "print(table1_project3)"
   ]
  },
  {
   "cell_type": "code",
   "execution_count": 4,
   "metadata": {},
   "outputs": [
    {
     "data": {
      "text/plain": [
       "'\\nSELECT DISTINCT playerID, yearID, (cast(H as float)/AB) AS batting_average\\nFROM Batting\\nORDER BY batting_average DESC, playerID\\nLIMIT 5\\n'"
      ]
     },
     "execution_count": 4,
     "metadata": {},
     "output_type": "execute_result"
    }
   ],
   "source": [
    "#Q2_a\n",
    "q_2a='''\n",
    "SELECT DISTINCT playerID, yearID, (cast(H as float)/AB) AS batting_average\n",
    "FROM Batting\n",
    "ORDER BY batting_average DESC, playerID\n",
    "LIMIT 5\n",
    "'''\n",
    "q_2a"
   ]
  },
  {
   "cell_type": "code",
   "execution_count": 5,
   "metadata": {},
   "outputs": [
    {
     "data": {
      "text/html": [
       "<div>\n",
       "<style scoped>\n",
       "    .dataframe tbody tr th:only-of-type {\n",
       "        vertical-align: middle;\n",
       "    }\n",
       "\n",
       "    .dataframe tbody tr th {\n",
       "        vertical-align: top;\n",
       "    }\n",
       "\n",
       "    .dataframe thead th {\n",
       "        text-align: right;\n",
       "    }\n",
       "</style>\n",
       "<table border=\"1\" class=\"dataframe\">\n",
       "  <thead>\n",
       "    <tr style=\"text-align: right;\">\n",
       "      <th></th>\n",
       "      <th>playerID</th>\n",
       "      <th>yearID</th>\n",
       "      <th>batting_average</th>\n",
       "    </tr>\n",
       "  </thead>\n",
       "  <tbody>\n",
       "    <tr>\n",
       "      <th>0</th>\n",
       "      <td>aberal01</td>\n",
       "      <td>1957</td>\n",
       "      <td>1.0</td>\n",
       "    </tr>\n",
       "    <tr>\n",
       "      <th>1</th>\n",
       "      <td>abernte02</td>\n",
       "      <td>1960</td>\n",
       "      <td>1.0</td>\n",
       "    </tr>\n",
       "    <tr>\n",
       "      <th>2</th>\n",
       "      <td>abramge01</td>\n",
       "      <td>1923</td>\n",
       "      <td>1.0</td>\n",
       "    </tr>\n",
       "    <tr>\n",
       "      <th>3</th>\n",
       "      <td>acklefr01</td>\n",
       "      <td>1964</td>\n",
       "      <td>1.0</td>\n",
       "    </tr>\n",
       "    <tr>\n",
       "      <th>4</th>\n",
       "      <td>alanirj01</td>\n",
       "      <td>2019</td>\n",
       "      <td>1.0</td>\n",
       "    </tr>\n",
       "  </tbody>\n",
       "</table>\n",
       "</div>"
      ],
      "text/plain": [
       "    playerID  yearID  batting_average\n",
       "0   aberal01    1957              1.0\n",
       "1  abernte02    1960              1.0\n",
       "2  abramge01    1923              1.0\n",
       "3  acklefr01    1964              1.0\n",
       "4  alanirj01    2019              1.0"
      ]
     },
     "execution_count": 5,
     "metadata": {},
     "output_type": "execute_result"
    }
   ],
   "source": [
    "q2a = pd.read_sql_query(q_2a,con)\n",
    "q2a"
   ]
  },
  {
   "cell_type": "code",
   "execution_count": 6,
   "metadata": {},
   "outputs": [
    {
     "data": {
      "text/html": [
       "<div>\n",
       "<style scoped>\n",
       "    .dataframe tbody tr th:only-of-type {\n",
       "        vertical-align: middle;\n",
       "    }\n",
       "\n",
       "    .dataframe tbody tr th {\n",
       "        vertical-align: top;\n",
       "    }\n",
       "\n",
       "    .dataframe thead th {\n",
       "        text-align: right;\n",
       "    }\n",
       "</style>\n",
       "<table border=\"1\" class=\"dataframe\">\n",
       "  <thead>\n",
       "    <tr style=\"text-align: right;\">\n",
       "      <th></th>\n",
       "      <th>playerID</th>\n",
       "      <th>yearID</th>\n",
       "      <th>batting_average</th>\n",
       "    </tr>\n",
       "  </thead>\n",
       "  <tbody>\n",
       "    <tr>\n",
       "      <th>0</th>\n",
       "      <td>nymanny01</td>\n",
       "      <td>1974</td>\n",
       "      <td>0.642857</td>\n",
       "    </tr>\n",
       "    <tr>\n",
       "      <th>1</th>\n",
       "      <td>carsoma01</td>\n",
       "      <td>2013</td>\n",
       "      <td>0.636364</td>\n",
       "    </tr>\n",
       "    <tr>\n",
       "      <th>2</th>\n",
       "      <td>altizda01</td>\n",
       "      <td>1910</td>\n",
       "      <td>0.600000</td>\n",
       "    </tr>\n",
       "    <tr>\n",
       "      <th>3</th>\n",
       "      <td>johnsde01</td>\n",
       "      <td>1975</td>\n",
       "      <td>0.600000</td>\n",
       "    </tr>\n",
       "    <tr>\n",
       "      <th>4</th>\n",
       "      <td>silvech01</td>\n",
       "      <td>1948</td>\n",
       "      <td>0.571429</td>\n",
       "    </tr>\n",
       "  </tbody>\n",
       "</table>\n",
       "</div>"
      ],
      "text/plain": [
       "    playerID  yearID  batting_average\n",
       "0  nymanny01    1974         0.642857\n",
       "1  carsoma01    2013         0.636364\n",
       "2  altizda01    1910         0.600000\n",
       "3  johnsde01    1975         0.600000\n",
       "4  silvech01    1948         0.571429"
      ]
     },
     "execution_count": 6,
     "metadata": {},
     "output_type": "execute_result"
    }
   ],
   "source": [
    "#Q2_b\n",
    "q_2b='''\n",
    "SELECT DISTINCT playerID, yearID, (cast(H as float)/AB) AS batting_average\n",
    "FROM Batting\n",
    "WHERE AB >= 10\n",
    "ORDER BY batting_average DESC, playerID\n",
    "LIMIT 5\n",
    "'''\n",
    "q2b = pd.read_sql_query(q_2b,con)\n",
    "q2b"
   ]
  },
  {
   "cell_type": "code",
   "execution_count": 7,
   "metadata": {},
   "outputs": [
    {
     "data": {
      "text/html": [
       "<div>\n",
       "<style scoped>\n",
       "    .dataframe tbody tr th:only-of-type {\n",
       "        vertical-align: middle;\n",
       "    }\n",
       "\n",
       "    .dataframe tbody tr th {\n",
       "        vertical-align: top;\n",
       "    }\n",
       "\n",
       "    .dataframe thead th {\n",
       "        text-align: right;\n",
       "    }\n",
       "</style>\n",
       "<table border=\"1\" class=\"dataframe\">\n",
       "  <thead>\n",
       "    <tr style=\"text-align: right;\">\n",
       "      <th></th>\n",
       "      <th>playerID</th>\n",
       "      <th>yearID</th>\n",
       "      <th>batting_average</th>\n",
       "    </tr>\n",
       "  </thead>\n",
       "  <tbody>\n",
       "    <tr>\n",
       "      <th>0</th>\n",
       "      <td>hazlebo01</td>\n",
       "      <td>1957</td>\n",
       "      <td>0.402985</td>\n",
       "    </tr>\n",
       "    <tr>\n",
       "      <th>1</th>\n",
       "      <td>daviscu01</td>\n",
       "      <td>1939</td>\n",
       "      <td>0.380952</td>\n",
       "    </tr>\n",
       "    <tr>\n",
       "      <th>2</th>\n",
       "      <td>fishesh01</td>\n",
       "      <td>1930</td>\n",
       "      <td>0.374016</td>\n",
       "    </tr>\n",
       "    <tr>\n",
       "      <th>3</th>\n",
       "      <td>woltery01</td>\n",
       "      <td>1871</td>\n",
       "      <td>0.369565</td>\n",
       "    </tr>\n",
       "    <tr>\n",
       "      <th>4</th>\n",
       "      <td>cobbty01</td>\n",
       "      <td>1905</td>\n",
       "      <td>0.366299</td>\n",
       "    </tr>\n",
       "  </tbody>\n",
       "</table>\n",
       "</div>"
      ],
      "text/plain": [
       "    playerID  yearID  batting_average\n",
       "0  hazlebo01    1957         0.402985\n",
       "1  daviscu01    1939         0.380952\n",
       "2  fishesh01    1930         0.374016\n",
       "3  woltery01    1871         0.369565\n",
       "4   cobbty01    1905         0.366299"
      ]
     },
     "execution_count": 7,
     "metadata": {},
     "output_type": "execute_result"
    }
   ],
   "source": [
    "#Q2_c\n",
    "q_2c='''\n",
    "SELECT DISTINCT playerID, yearID, (SUM(cast(H as float))/SUM(AB)) AS batting_average\n",
    "FROM Batting\n",
    "WHERE AB >= 100\n",
    "GROUP BY playerID\n",
    "ORDER BY batting_average DESC, playerID\n",
    "LIMIT 5\n",
    "'''\n",
    "q2c = pd.read_sql_query(q_2c,con)\n",
    "q2c"
   ]
  },
  {
   "cell_type": "code",
   "execution_count": 35,
   "metadata": {},
   "outputs": [
    {
     "data": {
      "text/html": [
       "<div>\n",
       "<style scoped>\n",
       "    .dataframe tbody tr th:only-of-type {\n",
       "        vertical-align: middle;\n",
       "    }\n",
       "\n",
       "    .dataframe tbody tr th {\n",
       "        vertical-align: top;\n",
       "    }\n",
       "\n",
       "    .dataframe thead th {\n",
       "        text-align: right;\n",
       "    }\n",
       "</style>\n",
       "<table border=\"1\" class=\"dataframe\">\n",
       "  <thead>\n",
       "    <tr style=\"text-align: right;\">\n",
       "      <th></th>\n",
       "      <th>teamID</th>\n",
       "      <th>Wins</th>\n",
       "      <th>name</th>\n",
       "    </tr>\n",
       "  </thead>\n",
       "  <tbody>\n",
       "    <tr>\n",
       "      <th>0</th>\n",
       "      <td>MIA</td>\n",
       "      <td>555</td>\n",
       "      <td>Miami Marlins</td>\n",
       "    </tr>\n",
       "  </tbody>\n",
       "</table>\n",
       "</div>"
      ],
      "text/plain": [
       "  teamID  Wins           name\n",
       "0    MIA   555  Miami Marlins"
      ]
     },
     "execution_count": 35,
     "metadata": {},
     "output_type": "execute_result"
    }
   ],
   "source": [
    "#Question 3\n",
    "q3 = '''\n",
    "SELECT DISTINCT teamID, SUM(W) AS Wins, name\n",
    "FROM Teams\n",
    "WHERE name = \"Miami Marlins\";\n",
    "'''\n",
    "\n",
    "q_3 = pd.read_sql_query(q3,con)\n",
    "q_3"
   ]
  },
  {
   "cell_type": "code",
   "execution_count": 42,
   "metadata": {},
   "outputs": [
    {
     "data": {
      "text/html": [
       "<div>\n",
       "<style scoped>\n",
       "    .dataframe tbody tr th:only-of-type {\n",
       "        vertical-align: middle;\n",
       "    }\n",
       "\n",
       "    .dataframe tbody tr th {\n",
       "        vertical-align: top;\n",
       "    }\n",
       "\n",
       "    .dataframe thead th {\n",
       "        text-align: right;\n",
       "    }\n",
       "</style>\n",
       "<table border=\"1\" class=\"dataframe\">\n",
       "  <thead>\n",
       "    <tr style=\"text-align: right;\">\n",
       "      <th></th>\n",
       "      <th>teamID</th>\n",
       "      <th>Wins</th>\n",
       "      <th>name</th>\n",
       "    </tr>\n",
       "  </thead>\n",
       "  <tbody>\n",
       "    <tr>\n",
       "      <th>0</th>\n",
       "      <td>MIN</td>\n",
       "      <td>4680</td>\n",
       "      <td>Minnesota Twins</td>\n",
       "    </tr>\n",
       "  </tbody>\n",
       "</table>\n",
       "</div>"
      ],
      "text/plain": [
       "  teamID  Wins             name\n",
       "0    MIN  4680  Minnesota Twins"
      ]
     },
     "execution_count": 42,
     "metadata": {},
     "output_type": "execute_result"
    }
   ],
   "source": [
    "q3b = '''\n",
    "SELECT DISTINCT teamID, SUM(W) AS Wins, name\n",
    "FROM Teams\n",
    "WHERE name = \"Minnesota Twins\";\n",
    "'''\n",
    "\n",
    "q_3b = pd.read_sql_query(q3b,con)\n",
    "q_3b"
   ]
  },
  {
   "cell_type": "code",
   "execution_count": 47,
   "metadata": {},
   "outputs": [],
   "source": [
    "chart1 =plot=alt.Chart(q_3).mark_bar(color = \"red\").encode(\n",
    "    alt.X('name'),\n",
    "    alt.Y('Wins'),\n",
    ")\n",
    "plot.properties(title='Number of Wins by Team')\n",
    "\n",
    "chart2 =plot=alt.Chart(q_3b).mark_bar(color = \"blue\").encode(\n",
    "    alt.X('name'),\n",
    "    alt.Y('Wins'),\n",
    ")\n",
    "plot.properties(title='Number of Wins by Team')\n",
    "\n",
    "chart = chart1 + chart2\n",
    "chart.save(\"project3_chart.png\")"
   ]
  }
 ],
 "metadata": {
  "interpreter": {
   "hash": "ed9c10df33cff3eddf9fd2eedf350f911f028d02aba27858b44582d44fb395ef"
  },
  "kernelspec": {
   "display_name": "Python 3.9.2 64-bit",
   "language": "python",
   "name": "python3"
  },
  "language_info": {
   "codemirror_mode": {
    "name": "ipython",
    "version": 3
   },
   "file_extension": ".py",
   "mimetype": "text/x-python",
   "name": "python",
   "nbconvert_exporter": "python",
   "pygments_lexer": "ipython3",
   "version": "3.9.2"
  },
  "orig_nbformat": 4
 },
 "nbformat": 4,
 "nbformat_minor": 2
}
