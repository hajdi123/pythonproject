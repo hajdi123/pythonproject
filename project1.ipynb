{
 "cells": [
  {
   "cell_type": "code",
   "execution_count": 3,
   "metadata": {},
   "outputs": [],
   "source": [
    "import pandas as pd\n",
    "import altair as alt\n",
    "import numpy as np"
   ]
  },
  {
   "cell_type": "code",
   "execution_count": 4,
   "metadata": {},
   "outputs": [],
   "source": [
    "names = pd.read_csv('https://raw.githubusercontent.com/byuidatascience/data4names/master/data-raw/names_year/names_year.csv')"
   ]
  },
  {
   "cell_type": "code",
   "execution_count": 5,
   "metadata": {},
   "outputs": [],
   "source": [
    "q1_data = names.query(\"name == ['Heidi']\")"
   ]
  },
  {
   "cell_type": "code",
   "execution_count": 7,
   "metadata": {},
   "outputs": [],
   "source": [
    "q1_data1 =q1_data.query(\"year == 1998\")"
   ]
  },
  {
   "cell_type": "code",
   "execution_count": 11,
   "metadata": {},
   "outputs": [],
   "source": [
    "graph1 = (alt.Chart(q1_data).encode(\n",
    "    x= 'year',\n",
    "    y ='Total'\n",
    ").mark_line()\n",
    ")\n",
    "graph2 = alt.Chart(q1_data1).encode(\n",
    "    x = 'year',\n",
    "    y= 'Total'\n",
    ").mark_circle(color ='red')\n",
    "\n",
    "graph3 =graph1 + graph2\n",
    "\n",
    "graph3.save(\"project1q1_chart.png\")"
   ]
  },
  {
   "cell_type": "code",
   "execution_count": 12,
   "metadata": {},
   "outputs": [],
   "source": [
    "#Question 2\n",
    "q2_data = names.query(\"name == ['Brittany']\")"
   ]
  },
  {
   "cell_type": "code",
   "execution_count": 15,
   "metadata": {},
   "outputs": [],
   "source": [
    "graph = (alt.Chart(q2_data).encode(\n",
    "    x= 'year',\n",
    "    y ='Total'\n",
    ").mark_line()\n",
    ")\n",
    "graph.save(\"project1q2_chart.png\")"
   ]
  },
  {
   "cell_type": "code",
   "execution_count": 21,
   "metadata": {},
   "outputs": [],
   "source": [
    "#Question 3\n",
    "\n",
    "q3_data = names.query(\"name == ['Mary','Martha','Peter','Paul'] & year >= 1920 & year <= 2000\")"
   ]
  },
  {
   "cell_type": "code",
   "execution_count": 24,
   "metadata": {},
   "outputs": [],
   "source": [
    "graph4 =alt.Chart(q3_data).encode(\n",
    "    x= 'year',\n",
    "    y ='Total',\n",
    "    color = 'name',\n",
    "    strokeDash = 'name'\n",
    ").mark_line()\n",
    "\n",
    "graph4.save(\"project1q3_chart.png\")"
   ]
  },
  {
   "cell_type": "code",
   "execution_count": 25,
   "metadata": {},
   "outputs": [],
   "source": [
    "#Question 4\n",
    "\n",
    "q4_data = names.query(\"name == ['Elsa']\")"
   ]
  },
  {
   "cell_type": "code",
   "execution_count": 27,
   "metadata": {},
   "outputs": [],
   "source": [
    "q4_data1 =q4_data.query(\"year == 2013\")"
   ]
  },
  {
   "cell_type": "code",
   "execution_count": 28,
   "metadata": {},
   "outputs": [],
   "source": [
    "graph5 = (alt.Chart(q4_data).encode(\n",
    "    x= 'year',\n",
    "    y ='Total'\n",
    ").mark_line()\n",
    ")\n",
    "graph6 = alt.Chart(q4_data1).encode(\n",
    "    x = 'year',\n",
    "    y= 'Total'\n",
    ").mark_circle(color ='red')\n",
    "\n",
    "graph7 =graph5 + graph6\n",
    "\n",
    "graph7.save(\"project1q4_chart.png\")"
   ]
  }
 ],
 "metadata": {
  "interpreter": {
   "hash": "ed9c10df33cff3eddf9fd2eedf350f911f028d02aba27858b44582d44fb395ef"
  },
  "kernelspec": {
   "display_name": "Python 3.9.2 64-bit",
   "language": "python",
   "name": "python3"
  },
  "language_info": {
   "codemirror_mode": {
    "name": "ipython",
    "version": 3
   },
   "file_extension": ".py",
   "mimetype": "text/x-python",
   "name": "python",
   "nbconvert_exporter": "python",
   "pygments_lexer": "ipython3",
   "version": "3.9.2"
  },
  "orig_nbformat": 4
 },
 "nbformat": 4,
 "nbformat_minor": 2
}
